{
  "nbformat": 4,
  "nbformat_minor": 0,
  "metadata": {
    "colab": {
      "provenance": [],
      "authorship_tag": "ABX9TyPIaq7y4PM7Q9cVnfnuH/8R"
    },
    "kernelspec": {
      "name": "python3",
      "display_name": "Python 3"
    },
    "language_info": {
      "name": "python"
    }
  },
  "cells": [
    {
      "cell_type": "code",
      "execution_count": 1,
      "metadata": {
        "colab": {
          "base_uri": "https://localhost:8080/"
        },
        "id": "oJg_FMOqEsPJ",
        "outputId": "a1718264-88db-4a08-cdfa-63881bf8e71e"
      },
      "outputs": [
        {
          "output_type": "stream",
          "name": "stdout",
          "text": [
            "The Zen of Python, by Tim Peters\n",
            "\n",
            "Beautiful is better than ugly.\n",
            "Explicit is better than implicit.\n",
            "Simple is better than complex.\n",
            "Complex is better than complicated.\n",
            "Flat is better than nested.\n",
            "Sparse is better than dense.\n",
            "Readability counts.\n",
            "Special cases aren't special enough to break the rules.\n",
            "Although practicality beats purity.\n",
            "Errors should never pass silently.\n",
            "Unless explicitly silenced.\n",
            "In the face of ambiguity, refuse the temptation to guess.\n",
            "There should be one-- and preferably only one --obvious way to do it.\n",
            "Although that way may not be obvious at first unless you're Dutch.\n",
            "Now is better than never.\n",
            "Although never is often better than *right* now.\n",
            "If the implementation is hard to explain, it's a bad idea.\n",
            "If the implementation is easy to explain, it may be a good idea.\n",
            "Namespaces are one honking great idea -- let's do more of those!\n"
          ]
        }
      ],
      "source": [
        "import this"
      ]
    },
    {
      "cell_type": "markdown",
      "source": [
        "# Beautiful is better than ugly.\n"
      ],
      "metadata": {
        "id": "xa_iHJnpFNhn"
      }
    },
    {
      "cell_type": "code",
      "source": [
        "# Beautiful\n",
        "def greet(name):\n",
        "  print(f\"Hello, {name}!\")\n",
        "# Ugly\n",
        "def greet(name):\n",
        "  print(\"Hello, \"+name+\"!\")\n",
        "\n",
        "greet(\"Hareesh\")"
      ],
      "metadata": {
        "colab": {
          "base_uri": "https://localhost:8080/"
        },
        "id": "o72ljHNLFTwi",
        "outputId": "dc4348b2-4c01-4aab-ee35-3d4d2cabaec2"
      },
      "execution_count": 4,
      "outputs": [
        {
          "output_type": "stream",
          "name": "stdout",
          "text": [
            "Hello, Hareesh!\n"
          ]
        }
      ]
    },
    {
      "cell_type": "code",
      "source": [
        "# Beautiful\n",
        "colors = ['red','green','blue']\n",
        "for color in colors:\n",
        "  print(color)\n",
        "\n",
        "# Ugly\n",
        "i=0\n",
        "while i<len(colors):print(colors[i]);i+=1"
      ],
      "metadata": {
        "colab": {
          "base_uri": "https://localhost:8080/"
        },
        "id": "bDhNb8FTFr82",
        "outputId": "b811fe6e-4fab-4a64-cd4a-b8f3beb30b30"
      },
      "execution_count": 5,
      "outputs": [
        {
          "output_type": "stream",
          "name": "stdout",
          "text": [
            "red\n",
            "green\n",
            "blue\n",
            "red\n",
            "green\n",
            "blue\n"
          ]
        }
      ]
    },
    {
      "cell_type": "markdown",
      "source": [
        "# Explicit is better than implicit"
      ],
      "metadata": {
        "id": "2wShikcrGHCs"
      }
    },
    {
      "cell_type": "code",
      "source": [
        "# Explicit\n",
        "import math\n",
        "radius = 2\n",
        "area = math.pi * radius ** 2\n",
        "area"
      ],
      "metadata": {
        "colab": {
          "base_uri": "https://localhost:8080/"
        },
        "id": "MA_3KbcrGLkW",
        "outputId": "d52a1abb-e750-4792-c78f-37984652ab3f"
      },
      "execution_count": 7,
      "outputs": [
        {
          "output_type": "execute_result",
          "data": {
            "text/plain": [
              "12.566370614359172"
            ]
          },
          "metadata": {},
          "execution_count": 7
        }
      ]
    },
    {
      "cell_type": "code",
      "source": [
        "# Implicit\n",
        "from math import *\n",
        "radius = 2\n",
        "area = math.pi * radius ** 2\n",
        "area"
      ],
      "metadata": {
        "id": "nckmcpJIGSAZ"
      },
      "execution_count": null,
      "outputs": []
    },
    {
      "cell_type": "code",
      "source": [
        "# Explicit\n",
        "file = open('data.txt', mode='r')"
      ],
      "metadata": {
        "id": "V951l44iGcer"
      },
      "execution_count": null,
      "outputs": []
    },
    {
      "cell_type": "code",
      "source": [
        "# Implicit\n",
        "file = open('data.txt')"
      ],
      "metadata": {
        "id": "BGo4sg00GjBN"
      },
      "execution_count": null,
      "outputs": []
    },
    {
      "cell_type": "markdown",
      "source": [
        "# Simple is better than complex."
      ],
      "metadata": {
        "id": "yGpz_ISRGph2"
      }
    },
    {
      "cell_type": "code",
      "source": [
        "# Simple\n",
        "def sum_numbers(numbers):\n",
        "  return sum(numbers)"
      ],
      "metadata": {
        "id": "rTsTI1FoGtIv"
      },
      "execution_count": null,
      "outputs": []
    },
    {
      "cell_type": "code",
      "source": [
        "# Complex\n",
        "def sum_numbers(numbers):\n",
        "  total=0\n",
        "  for number in numbers:\n",
        "    total+=number\n",
        "  return total"
      ],
      "metadata": {
        "id": "19mKBQBEGzzC"
      },
      "execution_count": null,
      "outputs": []
    },
    {
      "cell_type": "markdown",
      "source": [
        "# Complex is better than complicated"
      ],
      "metadata": {
        "id": "sx47Jd0SG82M"
      }
    },
    {
      "cell_type": "code",
      "source": [
        "# Complex\n",
        "groceries = [\"banana\", \"orange\", \"peanut butter\", \"rice\", \"lentils\"]\n",
        "fruits = [\"banana\", \"orange\",\"apple\", \"blueberries\"]\n",
        "fruits_groceries = [item for item in groceries if item in fruits]\n",
        "fruits_groceries"
      ],
      "metadata": {
        "colab": {
          "base_uri": "https://localhost:8080/"
        },
        "id": "08XXdWTiHDcX",
        "outputId": "cf3e475a-74a0-49cc-c5d6-c91890dcdc9c"
      },
      "execution_count": 8,
      "outputs": [
        {
          "output_type": "execute_result",
          "data": {
            "text/plain": [
              "['banana', 'orange']"
            ]
          },
          "metadata": {},
          "execution_count": 8
        }
      ]
    },
    {
      "cell_type": "code",
      "source": [
        "# Complicated\n",
        "groceries = [\"banana\", \"orange\", \"peanut butter\", \"rice\", \"lentils\"]\n",
        "fruits = [\"banana\", \"orange\",\"apple\", \"blueberries\"]\n",
        "\n",
        "fruits_groceries = []\n",
        "for item in groceries:\n",
        "  if item in fruits:\n",
        "    fruits_groceries.append(item)\n",
        "\n",
        "fruits_groceries"
      ],
      "metadata": {
        "colab": {
          "base_uri": "https://localhost:8080/"
        },
        "id": "cP7QNJLPHTBa",
        "outputId": "880f0b69-2110-437d-f057-b3bd40e63731"
      },
      "execution_count": 10,
      "outputs": [
        {
          "output_type": "execute_result",
          "data": {
            "text/plain": [
              "['banana', 'orange']"
            ]
          },
          "metadata": {},
          "execution_count": 10
        }
      ]
    },
    {
      "cell_type": "markdown",
      "source": [
        "# Flat is better than nested."
      ],
      "metadata": {
        "id": "4bEIiqzlHrZM"
      }
    },
    {
      "cell_type": "code",
      "source": [
        "# Flat\n",
        "def check_apples(item: str, num: int):\n",
        "    if item == \"apple\" and num == 0:\n",
        "        print(\"No apples\")\n",
        "\n",
        "    elif item == \"apple\" and num > 10:\n",
        "        print(\"Yup, we got apples - but theres to many\")\n",
        "\n",
        "    elif item == \"apple\" and num == 0:\n",
        "        print(\"No apples\")\n",
        "\n",
        "    elif item != \"apple\":\n",
        "        print(\"Item is not an apple!\")\n",
        "\n",
        "check_apples(\"apple\", 15)"
      ],
      "metadata": {
        "colab": {
          "base_uri": "https://localhost:8080/"
        },
        "id": "9qdZTdpbHupc",
        "outputId": "2dff2a51-7d8c-4ef0-9b7e-5967e78459a5"
      },
      "execution_count": 11,
      "outputs": [
        {
          "output_type": "stream",
          "name": "stdout",
          "text": [
            "Yup, we got apples - but theres to many\n"
          ]
        }
      ]
    },
    {
      "cell_type": "code",
      "source": [
        "# Nested\n",
        "def check_apples(item: str, num: int):\n",
        "    if item == \"apple\":\n",
        "        if num == 0:\n",
        "            print(\"No apples\")\n",
        "        elif num > 10:\n",
        "            print(\"Yup, we got apples - but theres to many\")\n",
        "        elif num == 0:\n",
        "            print(\"No apples\")\n",
        "    else:\n",
        "        print(\"Item is not an apple!\")\n",
        "\n",
        "check_apples(\"apple\", 15)"
      ],
      "metadata": {
        "colab": {
          "base_uri": "https://localhost:8080/"
        },
        "id": "26Iexe3fIIVo",
        "outputId": "31c3f10a-0e01-4162-aa4b-3e18fe2bc23b"
      },
      "execution_count": 12,
      "outputs": [
        {
          "output_type": "stream",
          "name": "stdout",
          "text": [
            "Yup, we got apples - but theres to many\n"
          ]
        }
      ]
    },
    {
      "cell_type": "markdown",
      "source": [
        "# Sparse is better than dense"
      ],
      "metadata": {
        "id": "ix7vEo20IYy3"
      }
    },
    {
      "cell_type": "code",
      "source": [
        "# Sparse\n",
        "name = \"Hareesh\"\n",
        "age = 22\n",
        "print(f\"{name}'s age is {age}'\")\n"
      ],
      "metadata": {
        "colab": {
          "base_uri": "https://localhost:8080/"
        },
        "id": "CpKJwtr4IcZs",
        "outputId": "556db1f4-c6f8-4e5b-9e69-8f196afc7cb2"
      },
      "execution_count": 20,
      "outputs": [
        {
          "output_type": "stream",
          "name": "stdout",
          "text": [
            "Hareesh's age is 22'\n"
          ]
        }
      ]
    },
    {
      "cell_type": "code",
      "source": [
        "# Dense\n",
        "name, age = \"Hareesh\", 22\n",
        "print(f\"{name}'s age is {age}'\")"
      ],
      "metadata": {
        "colab": {
          "base_uri": "https://localhost:8080/"
        },
        "id": "eQ4tCtVAIyu1",
        "outputId": "023c81eb-3865-43bb-bbf6-7abdc124508d"
      },
      "execution_count": 21,
      "outputs": [
        {
          "output_type": "stream",
          "name": "stdout",
          "text": [
            "Hareesh's age is 22'\n"
          ]
        }
      ]
    },
    {
      "cell_type": "code",
      "source": [
        "# More Dense\n",
        "print(\"{name}'s age is {age}\".format(name=\"Hareesh\",age=22))"
      ],
      "metadata": {
        "colab": {
          "base_uri": "https://localhost:8080/"
        },
        "id": "MzFnscL_I2s6",
        "outputId": "5391b5f4-f07b-4ece-8482-4b1a9f25d23c"
      },
      "execution_count": 22,
      "outputs": [
        {
          "output_type": "stream",
          "name": "stdout",
          "text": [
            "Hareesh's age is 22\n"
          ]
        }
      ]
    },
    {
      "cell_type": "markdown",
      "source": [
        "#Readability counts.\n",
        "```\n",
        "# Readable\n",
        "distance_traveled = starting_point + speed * time\n",
        "```\n",
        "```\n",
        "# Less readable\n",
        "d = sp + s *t\n",
        "```\n",
        "```\n",
        "# More less readable\n",
        "d=sp+s*t\n",
        "```\n",
        "\n"
      ],
      "metadata": {
        "id": "9-eVKtlyJgtb"
      }
    },
    {
      "cell_type": "markdown",
      "source": [
        "# Special cases are't special enough to break the rules"
      ],
      "metadata": {
        "id": "MbdzBJ4lJ2IM"
      }
    },
    {
      "cell_type": "code",
      "source": [
        "# Special case, it's obvious\n",
        "\n",
        "import time\n",
        "t0 = time.time()\n",
        "time.sleep(1)\n",
        "t1= time.time()\n",
        "\n",
        "dt = t1 - t0\n",
        "print(dt)"
      ],
      "metadata": {
        "colab": {
          "base_uri": "https://localhost:8080/"
        },
        "id": "GfQbb67tJgaf",
        "outputId": "2f43f649-7d3b-46d6-b33f-52af35e445bb"
      },
      "execution_count": 24,
      "outputs": [
        {
          "output_type": "stream",
          "name": "stdout",
          "text": [
            "1.0016212463378906\n"
          ]
        }
      ]
    },
    {
      "cell_type": "code",
      "source": [
        "# Even if it is special case it is not that much special\n",
        "\n",
        "start_time = time.time()\n",
        "time.sleep(1)\n",
        "end_time = time.time()\n",
        "time_delta = end_time - start_time\n",
        "print(time_delta)"
      ],
      "metadata": {
        "colab": {
          "base_uri": "https://localhost:8080/"
        },
        "id": "hWm0LNJ2I6iH",
        "outputId": "d3c0fd77-6832-444b-a2e7-7f5438478203"
      },
      "execution_count": 25,
      "outputs": [
        {
          "output_type": "stream",
          "name": "stdout",
          "text": [
            "1.0019145011901855\n"
          ]
        }
      ]
    },
    {
      "cell_type": "markdown",
      "source": [
        "# Although practicality beats purity"
      ],
      "metadata": {
        "id": "TxSWXgEKKm59"
      }
    },
    {
      "cell_type": "code",
      "source": [
        "# Poda dei\n",
        "\n",
        "t0 = time.time()\n",
        "time.sleep(1)\n",
        "t1 = time.time()\n",
        "\n",
        "print(t1 - t0)"
      ],
      "metadata": {
        "id": "9UyxcuuzKsiH"
      },
      "execution_count": null,
      "outputs": []
    },
    {
      "cell_type": "markdown",
      "source": [
        "# Errors should never pass silently"
      ],
      "metadata": {
        "id": "bonRMlykK2yF"
      }
    },
    {
      "cell_type": "code",
      "source": [
        "# Alerting on error\n",
        "try:\n",
        "    with open('config.txt', 'r') as cfg:\n",
        "        settings = cfg.read()\n",
        "except Exception as e:\n",
        "    print(\"Error:\")\n",
        "    print(e)"
      ],
      "metadata": {
        "id": "tBwvnGBLK5Ho"
      },
      "execution_count": null,
      "outputs": []
    },
    {
      "cell_type": "code",
      "source": [
        "# Passing silently\n",
        "try:\n",
        "    with open('config.txt', 'r') as cfg:\n",
        "        settings = cfg.read()\n",
        "except:\n",
        "    pass\n"
      ],
      "metadata": {
        "id": "j_sqQRpVK_hG"
      },
      "execution_count": null,
      "outputs": []
    },
    {
      "cell_type": "markdown",
      "source": [
        "# Unless explicitily silenced"
      ],
      "metadata": {
        "id": "pHZsxkeGLGp5"
      }
    },
    {
      "cell_type": "code",
      "source": [
        "# This is OK\n",
        "try:\n",
        "    with open('config.txt', 'r') as cfg:\n",
        "        settings = cfg.read()\n",
        "except IOError:\n",
        "    pass\n",
        "except Exception as e:\n",
        "    print(\"Error\")\n",
        "    print(e)"
      ],
      "metadata": {
        "id": "P7hHC8hNLKih"
      },
      "execution_count": null,
      "outputs": []
    },
    {
      "cell_type": "markdown",
      "source": [
        "# In the face of ambiguity, refuse the temptation to guess"
      ],
      "metadata": {
        "id": "qB0KmDOxLY71"
      }
    },
    {
      "cell_type": "code",
      "source": [
        "# Refuse to guess\n",
        "age = input(\"What is your age\")\n",
        "try:\n",
        "    int(age.strip())\n",
        "except:\n",
        "    raise ValueError(\"Invalid age\")"
      ],
      "metadata": {
        "id": "TLuBsVauLdKD"
      },
      "execution_count": null,
      "outputs": []
    },
    {
      "cell_type": "code",
      "source": [
        "# Refuse to guess\n",
        "age = int(input(\"What is your age\").strip())"
      ],
      "metadata": {
        "id": "V0ZmRbULLSc6"
      },
      "execution_count": null,
      "outputs": []
    },
    {
      "cell_type": "markdown",
      "source": [
        "# There should be one-- and preferably only one --obvious way to do it"
      ],
      "metadata": {
        "id": "4wC86IShLmrm"
      }
    },
    {
      "cell_type": "code",
      "source": [
        "# Obvious way\n",
        "greetings = \"Hello World\"\n",
        "print(greetings.lower())"
      ],
      "metadata": {
        "id": "P4CuWOeYLyWK"
      },
      "execution_count": null,
      "outputs": []
    },
    {
      "cell_type": "code",
      "source": [
        "# Less obvious way\n",
        "print(\"\".join([char.lower() for char in greetings]))"
      ],
      "metadata": {
        "id": "eWkXCaVMLzx8"
      },
      "execution_count": null,
      "outputs": []
    },
    {
      "cell_type": "code",
      "source": [
        "str.lower(greetings)"
      ],
      "metadata": {
        "id": "gTBLYCgRL610"
      },
      "execution_count": null,
      "outputs": []
    },
    {
      "cell_type": "markdown",
      "source": [
        "# Although that way may not be obvious at first unless you're Dutch.\n",
        "\n",
        "# Now is better than never.\n",
        "\n",
        "# Although never is often better than right now.\n",
        "\n",
        "# If the implementation is hard to explain, it's a bad idea.\n",
        "\n",
        "# If the implementation is easy to explain, it may be a good idea.\n",
        "\n",
        "# Namespaces are one honking great idea -- let's do more of those!\n"
      ],
      "metadata": {
        "id": "090v5YnHMINk"
      }
    }
  ]
}