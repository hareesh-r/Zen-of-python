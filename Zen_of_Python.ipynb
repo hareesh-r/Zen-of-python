{
  "nbformat": 4,
  "nbformat_minor": 0,
  "metadata": {
    "colab": {
      "provenance": [],
      "authorship_tag": "ABX9TyPIaq7y4PM7Q9cVnfnuH/8R"
    },
    "kernelspec": {
      "name": "python3",
      "display_name": "Python 3"
    },
    "language_info": {
      "name": "python"
    }
  },
  "cells": [
    {
      "cell_type": "code",
      "execution_count": 28,
      "metadata": {
        "id": "oJg_FMOqEsPJ"
      },
      "outputs": [],
      "source": [
        "import this"
      ]
    },
    {
      "cell_type": "markdown",
      "source": [
        "# Beautiful is better than ugly.\n"
      ],
      "metadata": {
        "id": "xa_iHJnpFNhn"
      }
    },
    {
      "cell_type": "code",
      "source": [
        "# Beautiful\n",
        "def greet(name):\n",
        "  print(f\"Hello, {name}!\")\n",
        "# Ugly\n",
        "def greet(name):\n",
        "  print(\"Hello, \"+name+\"!\")\n",
        "\n",
        "greet(\"Hareesh\")"
      ],
      "metadata": {
        "colab": {
          "base_uri": "https://localhost:8080/"
        },
        "id": "o72ljHNLFTwi",
        "outputId": "04b8e283-eba9-46f7-8f21-c1bfc0951bf2"
      },
      "execution_count": 29,
      "outputs": [
        {
          "output_type": "stream",
          "name": "stdout",
          "text": [
            "Hello, Hareesh!\n"
          ]
        }
      ]
    },
    {
      "cell_type": "code",
      "source": [
        "# Beautiful\n",
        "colors = ['red','green','blue']\n",
        "for color in colors:\n",
        "  print(color)\n",
        "\n",
        "# Ugly\n",
        "i=0\n",
        "while i<len(colors):print(colors[i]);i+=1"
      ],
      "metadata": {
        "colab": {
          "base_uri": "https://localhost:8080/"
        },
        "id": "bDhNb8FTFr82",
        "outputId": "08ea19a8-9d31-40b8-f37e-aded8e57c817"
      },
      "execution_count": 30,
      "outputs": [
        {
          "output_type": "stream",
          "name": "stdout",
          "text": [
            "red\n",
            "green\n",
            "blue\n",
            "red\n",
            "green\n",
            "blue\n"
          ]
        }
      ]
    },
    {
      "cell_type": "markdown",
      "source": [
        "# Explicit is better than implicit"
      ],
      "metadata": {
        "id": "2wShikcrGHCs"
      }
    },
    {
      "cell_type": "code",
      "source": [
        "# Explicit\n",
        "import math\n",
        "radius = 2\n",
        "area = math.pi * radius ** 2\n",
        "area"
      ],
      "metadata": {
        "colab": {
          "base_uri": "https://localhost:8080/"
        },
        "id": "MA_3KbcrGLkW",
        "outputId": "408c3a3a-c13b-4a2a-9e15-d714e072c4f5"
      },
      "execution_count": 31,
      "outputs": [
        {
          "output_type": "execute_result",
          "data": {
            "text/plain": [
              "12.566370614359172"
            ]
          },
          "metadata": {},
          "execution_count": 31
        }
      ]
    },
    {
      "cell_type": "code",
      "source": [
        "# Implicit\n",
        "from math import *\n",
        "radius = 2\n",
        "area = math.pi * radius ** 2\n",
        "area"
      ],
      "metadata": {
        "id": "nckmcpJIGSAZ",
        "colab": {
          "base_uri": "https://localhost:8080/"
        },
        "outputId": "feb778de-0295-40e7-c1f0-656e556c551f"
      },
      "execution_count": 32,
      "outputs": [
        {
          "output_type": "execute_result",
          "data": {
            "text/plain": [
              "12.566370614359172"
            ]
          },
          "metadata": {},
          "execution_count": 32
        }
      ]
    },
    {
      "cell_type": "code",
      "source": [
        "# Explicit\n",
        "file = open('data.txt', mode='r')"
      ],
      "metadata": {
        "id": "V951l44iGcer",
        "colab": {
          "base_uri": "https://localhost:8080/",
          "height": 158
        },
        "outputId": "e3c62a82-ea91-40df-ad60-58c533be689c"
      },
      "execution_count": 33,
      "outputs": [
        {
          "output_type": "error",
          "ename": "FileNotFoundError",
          "evalue": "[Errno 2] No such file or directory: 'data.txt'",
          "traceback": [
            "\u001b[0;31m---------------------------------------------------------------------------\u001b[0m",
            "\u001b[0;31mFileNotFoundError\u001b[0m                         Traceback (most recent call last)",
            "\u001b[0;32m<ipython-input-33-8b4d7b59c6e7>\u001b[0m in \u001b[0;36m<cell line: 2>\u001b[0;34m()\u001b[0m\n\u001b[1;32m      1\u001b[0m \u001b[0;31m# Explicit\u001b[0m\u001b[0;34m\u001b[0m\u001b[0;34m\u001b[0m\u001b[0m\n\u001b[0;32m----> 2\u001b[0;31m \u001b[0mfile\u001b[0m \u001b[0;34m=\u001b[0m \u001b[0mopen\u001b[0m\u001b[0;34m(\u001b[0m\u001b[0;34m'data.txt'\u001b[0m\u001b[0;34m,\u001b[0m \u001b[0mmode\u001b[0m\u001b[0;34m=\u001b[0m\u001b[0;34m'r'\u001b[0m\u001b[0;34m)\u001b[0m\u001b[0;34m\u001b[0m\u001b[0;34m\u001b[0m\u001b[0m\n\u001b[0m",
            "\u001b[0;31mFileNotFoundError\u001b[0m: [Errno 2] No such file or directory: 'data.txt'"
          ]
        }
      ]
    },
    {
      "cell_type": "code",
      "source": [
        "# Implicit\n",
        "file = open('data.txt')"
      ],
      "metadata": {
        "id": "BGo4sg00GjBN",
        "colab": {
          "base_uri": "https://localhost:8080/",
          "height": 158
        },
        "outputId": "8bc7250d-e8a1-456c-9a85-36cd96e077b5"
      },
      "execution_count": 34,
      "outputs": [
        {
          "output_type": "error",
          "ename": "FileNotFoundError",
          "evalue": "[Errno 2] No such file or directory: 'data.txt'",
          "traceback": [
            "\u001b[0;31m---------------------------------------------------------------------------\u001b[0m",
            "\u001b[0;31mFileNotFoundError\u001b[0m                         Traceback (most recent call last)",
            "\u001b[0;32m<ipython-input-34-ff6d94d6f2d9>\u001b[0m in \u001b[0;36m<cell line: 2>\u001b[0;34m()\u001b[0m\n\u001b[1;32m      1\u001b[0m \u001b[0;31m# Implicit\u001b[0m\u001b[0;34m\u001b[0m\u001b[0;34m\u001b[0m\u001b[0m\n\u001b[0;32m----> 2\u001b[0;31m \u001b[0mfile\u001b[0m \u001b[0;34m=\u001b[0m \u001b[0mopen\u001b[0m\u001b[0;34m(\u001b[0m\u001b[0;34m'data.txt'\u001b[0m\u001b[0;34m)\u001b[0m\u001b[0;34m\u001b[0m\u001b[0;34m\u001b[0m\u001b[0m\n\u001b[0m",
            "\u001b[0;31mFileNotFoundError\u001b[0m: [Errno 2] No such file or directory: 'data.txt'"
          ]
        }
      ]
    },
    {
      "cell_type": "markdown",
      "source": [
        "# Simple is better than complex."
      ],
      "metadata": {
        "id": "yGpz_ISRGph2"
      }
    },
    {
      "cell_type": "code",
      "source": [
        "# Simple\n",
        "def sum_numbers(numbers):\n",
        "  return sum(numbers)"
      ],
      "metadata": {
        "id": "rTsTI1FoGtIv"
      },
      "execution_count": 35,
      "outputs": []
    },
    {
      "cell_type": "code",
      "source": [
        "# Complex\n",
        "def sum_numbers(numbers):\n",
        "  total=0\n",
        "  for number in numbers:\n",
        "    total+=number\n",
        "  return total"
      ],
      "metadata": {
        "id": "19mKBQBEGzzC"
      },
      "execution_count": 36,
      "outputs": []
    },
    {
      "cell_type": "markdown",
      "source": [
        "# Complex is better than complicated"
      ],
      "metadata": {
        "id": "sx47Jd0SG82M"
      }
    },
    {
      "cell_type": "code",
      "source": [
        "# Complex\n",
        "groceries = [\"banana\", \"orange\", \"peanut butter\", \"rice\", \"lentils\"]\n",
        "fruits = [\"banana\", \"orange\",\"apple\", \"blueberries\"]\n",
        "fruits_groceries = [item for item in groceries if item in fruits]\n",
        "fruits_groceries"
      ],
      "metadata": {
        "colab": {
          "base_uri": "https://localhost:8080/"
        },
        "id": "08XXdWTiHDcX",
        "outputId": "1259eba1-9500-490e-96f9-41842032dee2"
      },
      "execution_count": 37,
      "outputs": [
        {
          "output_type": "execute_result",
          "data": {
            "text/plain": [
              "['banana', 'orange']"
            ]
          },
          "metadata": {},
          "execution_count": 37
        }
      ]
    },
    {
      "cell_type": "code",
      "source": [
        "# Complicated\n",
        "groceries = [\"banana\", \"orange\", \"peanut butter\", \"rice\", \"lentils\"]\n",
        "fruits = [\"banana\", \"orange\",\"apple\", \"blueberries\"]\n",
        "\n",
        "fruits_groceries = []\n",
        "for item in groceries:\n",
        "  if item in fruits:\n",
        "    fruits_groceries.append(item)\n",
        "\n",
        "fruits_groceries"
      ],
      "metadata": {
        "colab": {
          "base_uri": "https://localhost:8080/"
        },
        "id": "cP7QNJLPHTBa",
        "outputId": "dea1d7bf-53e3-4b20-f7aa-c77a1fde16b6"
      },
      "execution_count": 38,
      "outputs": [
        {
          "output_type": "execute_result",
          "data": {
            "text/plain": [
              "['banana', 'orange']"
            ]
          },
          "metadata": {},
          "execution_count": 38
        }
      ]
    },
    {
      "cell_type": "markdown",
      "source": [
        "# Flat is better than nested."
      ],
      "metadata": {
        "id": "4bEIiqzlHrZM"
      }
    },
    {
      "cell_type": "code",
      "source": [
        "# Flat\n",
        "def check_apples(item: str, num: int):\n",
        "    if item == \"apple\" and num == 0:\n",
        "        print(\"No apples\")\n",
        "\n",
        "    elif item == \"apple\" and num > 10:\n",
        "        print(\"Yup, we got apples - but theres to many\")\n",
        "\n",
        "    elif item == \"apple\" and num == 0:\n",
        "        print(\"No apples\")\n",
        "\n",
        "    elif item != \"apple\":\n",
        "        print(\"Item is not an apple!\")\n",
        "\n",
        "check_apples(\"apple\", 15)"
      ],
      "metadata": {
        "colab": {
          "base_uri": "https://localhost:8080/"
        },
        "id": "9qdZTdpbHupc",
        "outputId": "7c754e34-d379-47d6-bd76-093884930184"
      },
      "execution_count": 39,
      "outputs": [
        {
          "output_type": "stream",
          "name": "stdout",
          "text": [
            "Yup, we got apples - but theres to many\n"
          ]
        }
      ]
    },
    {
      "cell_type": "code",
      "source": [
        "# Nested\n",
        "def check_apples(item: str, num: int):\n",
        "    if item == \"apple\":\n",
        "        if num == 0:\n",
        "            print(\"No apples\")\n",
        "        elif num > 10:\n",
        "            print(\"Yup, we got apples - but theres to many\")\n",
        "        elif num == 0:\n",
        "            print(\"No apples\")\n",
        "    else:\n",
        "        print(\"Item is not an apple!\")\n",
        "\n",
        "check_apples(\"apple\", 15)"
      ],
      "metadata": {
        "colab": {
          "base_uri": "https://localhost:8080/"
        },
        "id": "26Iexe3fIIVo",
        "outputId": "3e9b64b1-3cb3-4b9d-dd59-6066bbeb7694"
      },
      "execution_count": 40,
      "outputs": [
        {
          "output_type": "stream",
          "name": "stdout",
          "text": [
            "Yup, we got apples - but theres to many\n"
          ]
        }
      ]
    },
    {
      "cell_type": "markdown",
      "source": [
        "# Sparse is better than dense"
      ],
      "metadata": {
        "id": "ix7vEo20IYy3"
      }
    },
    {
      "cell_type": "code",
      "source": [
        "# Sparse\n",
        "name = \"Hareesh\"\n",
        "age = 22\n",
        "print(f\"{name}'s age is {age}'\")\n"
      ],
      "metadata": {
        "colab": {
          "base_uri": "https://localhost:8080/"
        },
        "id": "CpKJwtr4IcZs",
        "outputId": "333a2167-c292-4395-d3d2-d814073088a7"
      },
      "execution_count": 41,
      "outputs": [
        {
          "output_type": "stream",
          "name": "stdout",
          "text": [
            "Hareesh's age is 22'\n"
          ]
        }
      ]
    },
    {
      "cell_type": "code",
      "source": [
        "# Dense\n",
        "name, age = \"Hareesh\", 22\n",
        "print(f\"{name}'s age is {age}'\")"
      ],
      "metadata": {
        "colab": {
          "base_uri": "https://localhost:8080/"
        },
        "id": "eQ4tCtVAIyu1",
        "outputId": "3f0d0608-6229-4c6f-f9e1-482a0e0e81f9"
      },
      "execution_count": 42,
      "outputs": [
        {
          "output_type": "stream",
          "name": "stdout",
          "text": [
            "Hareesh's age is 22'\n"
          ]
        }
      ]
    },
    {
      "cell_type": "code",
      "source": [
        "# More Dense\n",
        "print(\"{name}'s age is {age}\".format(name=\"Hareesh\",age=22))"
      ],
      "metadata": {
        "colab": {
          "base_uri": "https://localhost:8080/"
        },
        "id": "MzFnscL_I2s6",
        "outputId": "8238dd48-c475-433c-a475-325ef2871e6c"
      },
      "execution_count": 43,
      "outputs": [
        {
          "output_type": "stream",
          "name": "stdout",
          "text": [
            "Hareesh's age is 22\n"
          ]
        }
      ]
    },
    {
      "cell_type": "markdown",
      "source": [
        "#Readability counts.\n",
        "```\n",
        "# Readable\n",
        "distance_traveled = starting_point + speed * time\n",
        "```\n",
        "```\n",
        "# Less readable\n",
        "d = sp + s *t\n",
        "```\n",
        "```\n",
        "# More less readable\n",
        "d=sp+s*t\n",
        "```\n",
        "\n"
      ],
      "metadata": {
        "id": "9-eVKtlyJgtb"
      }
    },
    {
      "cell_type": "markdown",
      "source": [
        "# Special cases are't special enough to break the rules"
      ],
      "metadata": {
        "id": "MbdzBJ4lJ2IM"
      }
    },
    {
      "cell_type": "code",
      "source": [
        "# Special case, it's obvious\n",
        "\n",
        "import time\n",
        "t0 = time.time()\n",
        "time.sleep(1)\n",
        "t1= time.time()\n",
        "\n",
        "dt = t1 - t0\n",
        "print(dt)"
      ],
      "metadata": {
        "colab": {
          "base_uri": "https://localhost:8080/"
        },
        "id": "GfQbb67tJgaf",
        "outputId": "806922fc-9fae-42d5-aba1-4a6b1011578e"
      },
      "execution_count": 44,
      "outputs": [
        {
          "output_type": "stream",
          "name": "stdout",
          "text": [
            "1.0013298988342285\n"
          ]
        }
      ]
    },
    {
      "cell_type": "code",
      "source": [
        "# Even if it is special case it is not that much special\n",
        "\n",
        "start_time = time.time()\n",
        "time.sleep(1)\n",
        "end_time = time.time()\n",
        "time_delta = end_time - start_time\n",
        "print(time_delta)"
      ],
      "metadata": {
        "colab": {
          "base_uri": "https://localhost:8080/"
        },
        "id": "hWm0LNJ2I6iH",
        "outputId": "cb28d5d3-a4f2-45e0-ae85-bbbd88e01c7e"
      },
      "execution_count": 45,
      "outputs": [
        {
          "output_type": "stream",
          "name": "stdout",
          "text": [
            "1.001391887664795\n"
          ]
        }
      ]
    },
    {
      "cell_type": "markdown",
      "source": [
        "# Although practicality beats purity"
      ],
      "metadata": {
        "id": "TxSWXgEKKm59"
      }
    },
    {
      "cell_type": "code",
      "source": [
        "# Poda dei\n",
        "\n",
        "t0 = time.time()\n",
        "time.sleep(1)\n",
        "t1 = time.time()\n",
        "\n",
        "print(t1 - t0)"
      ],
      "metadata": {
        "id": "9UyxcuuzKsiH",
        "colab": {
          "base_uri": "https://localhost:8080/"
        },
        "outputId": "9a250dab-79db-4205-a9ce-f46bfdcdee8e"
      },
      "execution_count": 46,
      "outputs": [
        {
          "output_type": "stream",
          "name": "stdout",
          "text": [
            "1.0025525093078613\n"
          ]
        }
      ]
    },
    {
      "cell_type": "markdown",
      "source": [
        "# Errors should never pass silently"
      ],
      "metadata": {
        "id": "bonRMlykK2yF"
      }
    },
    {
      "cell_type": "code",
      "source": [
        "# Alerting on error\n",
        "try:\n",
        "    with open('config.txt', 'r') as cfg:\n",
        "        settings = cfg.read()\n",
        "except Exception as e:\n",
        "    print(\"Error:\")\n",
        "    print(e)"
      ],
      "metadata": {
        "id": "tBwvnGBLK5Ho",
        "colab": {
          "base_uri": "https://localhost:8080/"
        },
        "outputId": "0ef7ce1c-d0e3-49bb-b409-158ade6c1839"
      },
      "execution_count": 47,
      "outputs": [
        {
          "output_type": "stream",
          "name": "stdout",
          "text": [
            "Error:\n",
            "[Errno 2] No such file or directory: 'config.txt'\n"
          ]
        }
      ]
    },
    {
      "cell_type": "code",
      "source": [
        "# Passing silently\n",
        "try:\n",
        "    with open('config.txt', 'r') as cfg:\n",
        "        settings = cfg.read()\n",
        "except:\n",
        "    pass\n"
      ],
      "metadata": {
        "id": "j_sqQRpVK_hG"
      },
      "execution_count": 48,
      "outputs": []
    },
    {
      "cell_type": "markdown",
      "source": [
        "# Unless explicitily silenced"
      ],
      "metadata": {
        "id": "pHZsxkeGLGp5"
      }
    },
    {
      "cell_type": "code",
      "source": [
        "# This is OK\n",
        "try:\n",
        "    with open('config.txt', 'r') as cfg:\n",
        "        settings = cfg.read()\n",
        "except IOError:\n",
        "    pass\n",
        "except Exception as e:\n",
        "    print(\"Error\")\n",
        "    print(e)"
      ],
      "metadata": {
        "id": "P7hHC8hNLKih"
      },
      "execution_count": 49,
      "outputs": []
    },
    {
      "cell_type": "markdown",
      "source": [
        "# In the face of ambiguity, refuse the temptation to guess"
      ],
      "metadata": {
        "id": "qB0KmDOxLY71"
      }
    },
    {
      "cell_type": "code",
      "source": [
        "# Refuse to guess\n",
        "age = input(\"What is your age\")\n",
        "try:\n",
        "    int(age.strip())\n",
        "except:\n",
        "    raise ValueError(\"Invalid age\")"
      ],
      "metadata": {
        "id": "TLuBsVauLdKD",
        "colab": {
          "base_uri": "https://localhost:8080/",
          "height": 367
        },
        "outputId": "b45fe777-f2bc-40bd-d65b-2c54b92a0c6e"
      },
      "execution_count": 50,
      "outputs": [
        {
          "name": "stdout",
          "output_type": "stream",
          "text": [
            "What is your ageten\n"
          ]
        },
        {
          "output_type": "error",
          "ename": "ValueError",
          "evalue": "Invalid age",
          "traceback": [
            "\u001b[0;31m---------------------------------------------------------------------------\u001b[0m",
            "\u001b[0;31mValueError\u001b[0m                                Traceback (most recent call last)",
            "\u001b[0;32m<ipython-input-50-f5a5f2a88bef>\u001b[0m in \u001b[0;36m<cell line: 3>\u001b[0;34m()\u001b[0m\n\u001b[1;32m      3\u001b[0m \u001b[0;32mtry\u001b[0m\u001b[0;34m:\u001b[0m\u001b[0;34m\u001b[0m\u001b[0;34m\u001b[0m\u001b[0m\n\u001b[0;32m----> 4\u001b[0;31m     \u001b[0mint\u001b[0m\u001b[0;34m(\u001b[0m\u001b[0mage\u001b[0m\u001b[0;34m.\u001b[0m\u001b[0mstrip\u001b[0m\u001b[0;34m(\u001b[0m\u001b[0;34m)\u001b[0m\u001b[0;34m)\u001b[0m\u001b[0;34m\u001b[0m\u001b[0;34m\u001b[0m\u001b[0m\n\u001b[0m\u001b[1;32m      5\u001b[0m \u001b[0;32mexcept\u001b[0m\u001b[0;34m:\u001b[0m\u001b[0;34m\u001b[0m\u001b[0;34m\u001b[0m\u001b[0m\n",
            "\u001b[0;31mValueError\u001b[0m: invalid literal for int() with base 10: 'ten'",
            "\nDuring handling of the above exception, another exception occurred:\n",
            "\u001b[0;31mValueError\u001b[0m                                Traceback (most recent call last)",
            "\u001b[0;32m<ipython-input-50-f5a5f2a88bef>\u001b[0m in \u001b[0;36m<cell line: 3>\u001b[0;34m()\u001b[0m\n\u001b[1;32m      4\u001b[0m     \u001b[0mint\u001b[0m\u001b[0;34m(\u001b[0m\u001b[0mage\u001b[0m\u001b[0;34m.\u001b[0m\u001b[0mstrip\u001b[0m\u001b[0;34m(\u001b[0m\u001b[0;34m)\u001b[0m\u001b[0;34m)\u001b[0m\u001b[0;34m\u001b[0m\u001b[0;34m\u001b[0m\u001b[0m\n\u001b[1;32m      5\u001b[0m \u001b[0;32mexcept\u001b[0m\u001b[0;34m:\u001b[0m\u001b[0;34m\u001b[0m\u001b[0;34m\u001b[0m\u001b[0m\n\u001b[0;32m----> 6\u001b[0;31m     \u001b[0;32mraise\u001b[0m \u001b[0mValueError\u001b[0m\u001b[0;34m(\u001b[0m\u001b[0;34m\"Invalid age\"\u001b[0m\u001b[0;34m)\u001b[0m\u001b[0;34m\u001b[0m\u001b[0;34m\u001b[0m\u001b[0m\n\u001b[0m",
            "\u001b[0;31mValueError\u001b[0m: Invalid age"
          ]
        }
      ]
    },
    {
      "cell_type": "code",
      "source": [
        "# Refuse to guess\n",
        "age = int(input(\"What is your age\").strip())"
      ],
      "metadata": {
        "id": "V0ZmRbULLSc6",
        "colab": {
          "base_uri": "https://localhost:8080/"
        },
        "outputId": "31f8d017-21cf-4bd3-b8a5-9c28629051c1"
      },
      "execution_count": 51,
      "outputs": [
        {
          "name": "stdout",
          "output_type": "stream",
          "text": [
            "What is your age10\n"
          ]
        }
      ]
    },
    {
      "cell_type": "markdown",
      "source": [
        "# There should be one-- and preferably only one --obvious way to do it"
      ],
      "metadata": {
        "id": "4wC86IShLmrm"
      }
    },
    {
      "cell_type": "code",
      "source": [
        "# Obvious way\n",
        "greetings = \"Hello World\"\n",
        "print(greetings.lower())"
      ],
      "metadata": {
        "id": "P4CuWOeYLyWK",
        "colab": {
          "base_uri": "https://localhost:8080/"
        },
        "outputId": "e010f55f-7ff3-4c21-9c81-dce566c9e27a"
      },
      "execution_count": 52,
      "outputs": [
        {
          "output_type": "stream",
          "name": "stdout",
          "text": [
            "hello world\n"
          ]
        }
      ]
    },
    {
      "cell_type": "code",
      "source": [
        "# Less obvious way\n",
        "print(\"\".join([char.lower() for char in greetings]))"
      ],
      "metadata": {
        "id": "eWkXCaVMLzx8",
        "colab": {
          "base_uri": "https://localhost:8080/"
        },
        "outputId": "259659ab-dc8c-4327-eada-9057bf24b9eb"
      },
      "execution_count": 53,
      "outputs": [
        {
          "output_type": "stream",
          "name": "stdout",
          "text": [
            "hello world\n"
          ]
        }
      ]
    },
    {
      "cell_type": "code",
      "source": [
        "str.lower(greetings)"
      ],
      "metadata": {
        "id": "gTBLYCgRL610",
        "colab": {
          "base_uri": "https://localhost:8080/",
          "height": 36
        },
        "outputId": "a5e9102e-7183-4dea-8f33-745d74efdc30"
      },
      "execution_count": 54,
      "outputs": [
        {
          "output_type": "execute_result",
          "data": {
            "text/plain": [
              "'hello world'"
            ],
            "application/vnd.google.colaboratory.intrinsic+json": {
              "type": "string"
            }
          },
          "metadata": {},
          "execution_count": 54
        }
      ]
    },
    {
      "cell_type": "markdown",
      "source": [
        "# Although that way may not be obvious at first unless you're Dutch.\n",
        "\n",
        "# Now is better than never.\n",
        "\n",
        "# Although never is often better than right now.\n",
        "\n",
        "# If the implementation is hard to explain, it's a bad idea.\n",
        "\n",
        "# If the implementation is easy to explain, it may be a good idea.\n",
        "\n",
        "# Namespaces are one honking great idea -- let's do more of those!\n"
      ],
      "metadata": {
        "id": "090v5YnHMINk"
      }
    }
  ]
}